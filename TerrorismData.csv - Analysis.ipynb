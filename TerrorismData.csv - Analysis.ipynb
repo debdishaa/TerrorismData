{
 "cells": [
  {
   "cell_type": "markdown",
   "id": "a06d1980",
   "metadata": {},
   "source": [
    "# TerrorismData.csv\n",
    "\n",
    "Given file \"terrorismData.csv\"\n",
    "It is an open-source database including information on terrorist attacks around the world from 1970 through 2017. This dataset includes systematic data on domestic as well as international terrorist incidents that have occurred during this time period"
   ]
  },
  {
   "cell_type": "markdown",
   "id": "812d42f0",
   "metadata": {},
   "source": [
    "1. Killed in USA :\n",
    "\n",
    "Find value of killed column only where country == ‘United States’?\n",
    "Print 0 in place of missing values.\n",
    "Print count of Killed as integer value."
   ]
  },
  {
   "cell_type": "code",
   "execution_count": null,
   "id": "c3d6ed45",
   "metadata": {},
   "outputs": [],
   "source": [
    "import numpy as np\n",
    "import csv\n",
    "\n",
    "with open('terrorismData.csv',encoding=\"utf8\") as file_obj :\n",
    "    data = csv.DictReader(file_obj,skipinitialspace=True)\n",
    "\n",
    "    killed = []\n",
    "    country = []\n",
    "    for row in data:\n",
    "        killed.append(row['Killed'])\n",
    "        country.append(row['Country'])\n",
    "\n",
    "    np_killed = np.array(killed)\n",
    "    np_country = np.array(country)\n",
    "    \n",
    "    np_killed[np_killed == ''] = '0.0'\n",
    "    np_killed = np.array(np_killed,dtype=float)\n",
    "    \n",
    "    np_country = np.array(country)\n",
    "    bool_arr = np_country==\"United States\"\n",
    "    ans = np_killed[bool_arr]\n",
    "   \n",
    "    for i in ans:\n",
    "        print(int(i))"
   ]
  },
  {
   "cell_type": "markdown",
   "id": "c85728af",
   "metadata": {},
   "source": [
    "2. Total killed in USA:\n",
    "\n",
    "Find total number of people killed from USA?\n",
    "Note: Some columns of killed are empty so replace them by 0.\n",
    "Print count of Killed as integer value."
   ]
  },
  {
   "cell_type": "code",
   "execution_count": null,
   "id": "79df098f",
   "metadata": {},
   "outputs": [],
   "source": [
    "import numpy as np\n",
    "import csv\n",
    "\n",
    "with open('terrorismData.csv',encoding=\"utf8\") as file_obj :\n",
    "    data = csv.DictReader(file_obj,skipinitialspace=True)\n",
    "\n",
    "    killed = []\n",
    "    country = []\n",
    "    for row in data:\n",
    "        killed.append(row['Killed'])\n",
    "        country.append(row['Country'])\n",
    "\n",
    "    np_killed = np.array(killed)\n",
    "    np_country = np.array(country)\n",
    "    \n",
    "    np_killed[np_killed=='']= '0.0'\n",
    "    np_killed = np.array(np_killed,dtype=float)\n",
    "    \n",
    "    np_country = np.array(country)\n",
    "    bool_arr = np_country == \"United States\"\n",
    "    ans = np_killed[bool_arr]\n",
    "    \n",
    "    print(int(np.sum(ans)))"
   ]
  },
  {
   "cell_type": "markdown",
   "id": "b1d21d16",
   "metadata": {},
   "source": [
    "3. Terrorism Day:\n",
    "\n",
    "Find the number of attack held between day 10 and day 20?(ignoring the year and month)(including both day)\n",
    "Print count of NumberOFAttack as integer value."
   ]
  },
  {
   "cell_type": "code",
   "execution_count": null,
   "id": "91575de5",
   "metadata": {},
   "outputs": [],
   "source": [
    "import numpy as np\n",
    "import csv\n",
    "\n",
    "with open('terrorismData.csv',encoding=\"utf8\") as file_obj :\n",
    "    data = csv.DictReader(file_obj,skipinitialspace=True)\n",
    "    \n",
    "    days = []\n",
    "    for row in data:\n",
    "        days.append(row['Day'])\n",
    "        \n",
    "    np_days = np.array(days, dtype=float)\n",
    "    ans = np_days[(np_days>=10) & (np_days<=20)]\n",
    "    print(len(ans))"
   ]
  },
  {
   "cell_type": "markdown",
   "id": "5e5306e1",
   "metadata": {},
   "source": [
    "4. Terrorism Date:\n",
    "\n",
    "Find the number of attack held between 1 Jan 2010 and 31 Jan 2010?(including both date).\n",
    "Note Ignore the case where day is 0\n",
    "Print count of NumberOFAttack as integer value."
   ]
  },
  {
   "cell_type": "code",
   "execution_count": null,
   "id": "8cc73bf9",
   "metadata": {},
   "outputs": [],
   "source": [
    "import numpy as np\n",
    "import csv\n",
    "\n",
    "with open('terrorismData.csv',encoding=\"utf8\") as file_obj :\n",
    "    data = csv.DictReader(file_obj,skipinitialspace=True)\n",
    "    \n",
    "    days = []\n",
    "    months = []\n",
    "    year = []\n",
    "    for row in data:\n",
    "        days.append(row['Day'])\n",
    "        months.append(row['Month'])\n",
    "        year.append(row['Year'])\n",
    "        \n",
    "    np_day = np.array(days, dtype=float)\n",
    "    np_month = np.array(months, dtype=float)\n",
    "    np_year = np.array(year, dtype=float)\n",
    "    \n",
    "    np_day = np_day[np_month==1]\n",
    "    np_year = np_year[np_month==1]\n",
    "    np_day = np_day[np_year==2010]\n",
    "    \n",
    "    print(len(np_day[np_day!=0]))"
   ]
  },
  {
   "cell_type": "markdown",
   "id": "908ece9e",
   "metadata": {},
   "source": [
    "5. Terror Casualty Attack:\n",
    "\n",
    "As we knew the Kargil ( in Jammu and Kashmir) War that took place between May 1999 and July 1999 (3 Months) ,so there was a huge conflict in Kashmir Valley during this period.\n",
    "In this dataset, there is no information regarding the war between the two countries to find out the casualty during the war.\n",
    "So find out the attack in this period in which maximum casualties happened.\n",
    "Print the count of casualties (as integer), city in which that attack happened and name of attack group.\n",
    "Note : Casualty = Killed + Wounded.Fill the empty value in killed or wounded feature to 0.\n"
   ]
  },
  {
   "cell_type": "code",
   "execution_count": null,
   "id": "564e1f50",
   "metadata": {},
   "outputs": [],
   "source": [
    "import numpy as np\n",
    "import csv\n",
    "\n",
    "with open('terrorismData.csv',encoding=\"utf8\") as file_obj :\n",
    "    data = csv.DictReader(file_obj,skipinitialspace=True)\n",
    "    \n",
    "    city = []\n",
    "    casualty = []\n",
    "    for row in data:\n",
    "        if row[\"State\"] == \"Jammu and Kashmir\" and row[\"Year\"] == \"1999\" :\n",
    "            if row[\"Month\"] ==\"5\" or row[\"Month\"] == \"6\" or row[\"Month\"] == \"7\" :\n",
    "                casualty.append([row[\"Killed\"],row[\"Wounded\"]])\n",
    "                city.append([row[\"City\"],row['Group']])\n",
    "                \n",
    "    np_city = np.array(city)\n",
    "    np_casualty = np.array(casualty)\n",
    "    \n",
    "    np_casualty[np_casualty==''] = \"0.0\"\n",
    "    np_casualty = np.array(np_casualty, dtype = float)\n",
    "    \n",
    "    np_casualty = np.sum(np_casualty, axis=1)\n",
    "    index = np.argmax(np_casualty)\n",
    "    print(int(np_casualty[index]),np_city[index][0],np_city[index][1])"
   ]
  },
  {
   "cell_type": "markdown",
   "id": "69c4bb7a",
   "metadata": {},
   "source": [
    "6. Terror Casualty Red:\n",
    "\n",
    "Find the casualty in the Red Corridor States ? Mainly Red corridor states include Jharkhand, Odisha, Andhra Pradesh, and Chhattisgarh.\n",
    "Note: Casualty=Killed +Wounded\n",
    "Print count of Casualty as integer value."
   ]
  },
  {
   "cell_type": "code",
   "execution_count": null,
   "id": "94335db1",
   "metadata": {},
   "outputs": [],
   "source": [
    "import numpy as np\n",
    "import csv\n",
    "\n",
    "with open('terrorismData.csv',encoding=\"utf8\") as file_obj :\n",
    "    data = csv.DictReader(file_obj,skipinitialspace=True)\n",
    "    \n",
    "    casualty = []\n",
    "    for row in data:\n",
    "        if row['State']=='Chhattisgarh' or row['State']=='Odisha' or row['State']=='Jharkhand' or row['State']=='Andhra Pradesh':\n",
    "                casualty.append([row[\"Killed\"],row[\"Wounded\"]])\n",
    "\n",
    "    np_casualty = np.array(casualty)\n",
    "    \n",
    "    np_casualty[np_casualty==''] = \"0.0\"\n",
    "    np_casualty = np.array(np_casualty, dtype = float)\n",
    "    \n",
    "    np_casualty = np.sum(np_casualty, axis=1)\n",
    "    total_casualty = np.sum(np_casualty)\n",
    "    print(int(total_casualty))"
   ]
  },
  {
   "cell_type": "markdown",
   "id": "af5345d0",
   "metadata": {},
   "source": [
    "7. Terror City Casualty:\n",
    "\n",
    "Find top 5 Indian Cities which has most number of casualties ?\n",
    "Print top 5 cities along with total casualties in that city. Print count of Casualty as integer value.\n",
    "Note: Ignoring the City which is Unknown.\n",
    "Casualty = Killed + Wounded."
   ]
  },
  {
   "cell_type": "code",
   "execution_count": null,
   "id": "1d07e77b",
   "metadata": {},
   "outputs": [],
   "source": [
    "import numpy as np\n",
    "import csv\n",
    "from collections import Counter\n",
    "\n",
    "with open('terrorismData.csv',encoding=\"utf8\") as file_obj :\n",
    "    data = csv.DictReader(file_obj,skipinitialspace=True)\n",
    "    \n",
    "    city = []\n",
    "    casualty = []\n",
    "    for row in data:\n",
    "         if row[\"Country\"] == 'India' and row['City'] != 'Unknown':\n",
    "                casualty.append([row[\"Killed\"],row[\"Wounded\"]])\n",
    "                city.append(row[\"City\"])\n",
    "                \n",
    "    np_city = np.array(city)\n",
    "    np_casualty = np.array(casualty)\n",
    "    \n",
    "    np_casualty[np_casualty==''] = \"0.0\"\n",
    "    np_casualty = np.array(np_casualty, dtype = float)\n",
    "    np_casualty = np.sum(np_casualty, axis=1)\n",
    "    \n",
    "    dic = {}\n",
    "    for i in range(len(np_city)):\n",
    "        if np_city[i] in dic:\n",
    "            dic[np_city[i]] += np_casualty[i]\n",
    "        else:\n",
    "            dic[np_city[i]] = np_casualty[i]\n",
    "\n",
    "    k = Counter(dic) \n",
    "    high = k.most_common(5) \n",
    "    for i in high: \n",
    "        print(i[0],int(i[1])) "
   ]
  },
  {
   "cell_type": "markdown",
   "id": "dfa1d7a0",
   "metadata": {},
   "source": [
    "8. Terrorism Frequent Day:\n",
    "\n",
    "Find the most frequent day of attack in a terrorismDataset ?\n",
    "Note: Here np.unique can be used.\n",
    "Print count of frequent day and number of attack as Integer value."
   ]
  },
  {
   "cell_type": "code",
   "execution_count": null,
   "id": "c72fdfda",
   "metadata": {},
   "outputs": [],
   "source": [
    "import numpy as np\n",
    "import csv\n",
    "\n",
    "with open('terrorismData.csv',encoding=\"utf8\") as file_obj :\n",
    "    data = csv.DictReader(file_obj,skipinitialspace=True)\n",
    "    \n",
    "    day = []\n",
    "    for row in data:\n",
    "        day.append(row['Day'])\n",
    "        \n",
    "    np_day = np.array(day, dtype='int')\n",
    "    day, count = np.unique(np_day, return_counts=True)\n",
    "    index = np.argmax(count)\n",
    "    print(day[index], count[index])"
   ]
  }
 ],
 "metadata": {
  "kernelspec": {
   "display_name": "Python 3 (ipykernel)",
   "language": "python",
   "name": "python3"
  },
  "language_info": {
   "codemirror_mode": {
    "name": "ipython",
    "version": 3
   },
   "file_extension": ".py",
   "mimetype": "text/x-python",
   "name": "python",
   "nbconvert_exporter": "python",
   "pygments_lexer": "ipython3",
   "version": "3.11.3"
  }
 },
 "nbformat": 4,
 "nbformat_minor": 5
}
